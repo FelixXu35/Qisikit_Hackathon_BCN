{
 "cells": [
  {
   "attachments": {},
   "cell_type": "markdown",
   "metadata": {},
   "source": [
    "## **Quantum Computing for Option Pricing - Challenge Solution**"
   ]
  },
  {
   "attachments": {},
   "cell_type": "markdown",
   "metadata": {},
   "source": [
    " ### Dependencies and imports \n",
    "\n",
    "We developed this solution within a conda environment (miniconda) running Python 3.11.2 and the following libraries: "
   ]
  },
  {
   "cell_type": "code",
   "execution_count": 1,
   "metadata": {},
   "outputs": [],
   "source": [
    "import numpy \n",
    "import matplotlib.pyplot as plt\n",
    "from qiskit import QuantumCircuit"
   ]
  },
  {
   "attachments": {},
   "cell_type": "markdown",
   "metadata": {},
   "source": [
    "### **Step 1**: Build the ansatz circuit and the hamiltonian"
   ]
  },
  {
   "cell_type": "code",
   "execution_count": 2,
   "metadata": {},
   "outputs": [
    {
     "name": "stdout",
     "output_type": "stream",
     "text": [
      "23\n"
     ]
    },
    {
     "data": {
      "image/png": "[encoded data removed]",
      "text/plain": [
       "<Figure size 956.385x451.5 with 1 Axes>"
      ]
     },
     "metadata": {},
     "output_type": "display_data"
    }
   ],
   "source": [
    "# define the varitional form\n",
    "def var_form(params, n_qubits, rep):\n",
    "    \"\"\"\n",
    "        params are the trainable parameters\n",
    "        n_qubits is the number of qubits in the ansatz\n",
    "        rep is the repetation of the controlled-RY group\n",
    "    \"\"\"\n",
    "    # giving exceptions\n",
    "    if len(params) != n_qubits + rep*(2*n_qubits-1):\n",
    "        raise Exception(\"the number of parameters doesn't match\")\n",
    "    if n_qubits < 2:\n",
    "        raise Exception(\"not enought qubits to build the ansatz\")\n",
    "    if rep < 1:\n",
    "        raise Exception(\"the repetation must be at least 1\")\n",
    "    if type(n_qubits) != int:\n",
    "        raise Exception(\"the number of qubits must be an integar\")\n",
    "    if type(rep) != int:\n",
    "        raise Exception(\"the number of repetation must be an integar\")\n",
    "    \n",
    "    # build the circuit\n",
    "    qc = QuantumCircuit(n_qubits)\n",
    "    qc.h(range(n_qubits))\n",
    "    for n in range(n_qubits):\n",
    "        qc.ry(params[n], n)\n",
    "    for i in range(rep):\n",
    "        for n in range(n_qubits-1):\n",
    "            qc.cry(params[n_qubits+(2*n_qubits-1)*i+n], n, n+1)\n",
    "            qc.ry(params[n_qubits+(2*n_qubits-1)*i+n+n_qubits-1], n)\n",
    "        qc.ry(params[n_qubits+(2*n_qubits-1)*i+(2*n_qubits-2)], n_qubits-1)\n",
    "    display(qc.draw('mpl'))\n",
    "\n",
    "\n",
    "params = [i for i in range(23)]\n",
    "print(len(params))\n",
    "var_form(\n",
    "    params=params,\n",
    "    n_qubits=5,\n",
    "    rep=2\n",
    ")\n",
    "\n"
   ]
  },
  {
   "attachments": {},
   "cell_type": "markdown",
   "metadata": {},
   "source": [
    "### **Step 2**: Build the initial state for the hybrid quantum-classical algorithm"
   ]
  },
  {
   "attachments": {},
   "cell_type": "markdown",
   "metadata": {},
   "source": [
    "### **Step 3**: Simulate the hybrid quantum-classical routine to price an European call option"
   ]
  },
  {
   "attachments": {},
   "cell_type": "markdown",
   "metadata": {},
   "source": [
    "### **Bonus points**:"
   ]
  },
  {
   "attachments": {},
   "cell_type": "markdown",
   "metadata": {},
   "source": [
    "- Run the hybrid quantum-classical on a QPU (optimize for given QPU connectivity). Reason whether you need state tomography, reason if possible to extract the information of interest (only the price call at the current date) with alternatives that require less expensive techniques. On a QPU or QASM  simulator, you only have access to short-estimated probabilities."
   ]
  },
  {
   "attachments": {},
   "cell_type": "markdown",
   "metadata": {},
   "source": [
    "- Reason how to extend the algorithm to other type of options or to a multi-dimensional BS model."
   ]
  },
  {
   "attachments": {},
   "cell_type": "markdown",
   "metadata": {},
   "source": [
    "- Implement Montecarlo or Finite differences schemes to solve the simple option pricing exercise. A classical baseline to compare with is useful. Argue where does the hybrid quantum algortihm stand in terms of error, runtime and numerical stability or others."
   ]
  }
 ],
 "metadata": {
  "kernelspec": {
   "display_name": "qiskit-hackathon",
   "language": "python",
   "name": "python3"
  },
  "language_info": {
   "codemirror_mode": {
    "name": "ipython",
    "version": 3
   },
   "file_extension": ".py",
   "mimetype": "text/x-python",
   "name": "python",
   "nbconvert_exporter": "python",
   "pygments_lexer": "ipython3",
   "version": "3.11.2"
  },
  "orig_nbformat": 4
 },
 "nbformat": 4,
 "nbformat_minor": 2
}
