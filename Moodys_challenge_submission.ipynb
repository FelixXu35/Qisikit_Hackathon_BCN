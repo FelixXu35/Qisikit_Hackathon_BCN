{
 "cells": [
  {
   "attachments": {},
   "cell_type": "markdown",
   "metadata": {},
   "source": [
    "## **Quantum Computing for Option Pricing - Challenge Solution**"
   ]
  },
  {
   "attachments": {},
   "cell_type": "markdown",
   "metadata": {},
   "source": [
    " ### Dependencies and imports \n",
    "\n",
    "We developed this solution within a conda environment (miniconda) running Python 3.11.2 and the following libraries: "
   ]
  },
  {
   "cell_type": "code",
   "execution_count": null,
   "metadata": {},
   "outputs": [],
   "source": [
    "import numpy as np\n",
    "import matplotlib.pyplot as plt\n",
    "from qiskit import QuantumCircuit\n",
    "from qiskit import Aer, transpile\n",
    "from qiskit.algorithms.optimizers import SPSA,COBYLA\n",
    "from qiskit.visualization import plot_histogram\n",
    "from qiskit.quantum_info import Statevector\n",
    "from qiskit import QuantumCircuit, ClassicalRegister, QuantumRegister\n",
    "from qiskit.circuit.library import RealAmplitudes\n",
    "from qiskit.quantum_info import SparsePauliOp\n",
    "from qiskit.opflow import PauliSumOp\n",
    "from qiskit.algorithms import TimeEvolutionProblem, VarQITE\n",
    "from qiskit.algorithms.time_evolvers.variational import ImaginaryMcLachlanPrinciple\n",
    "from qiskit.circuit.library import EfficientSU2\n",
    "from qiskit.circuit import ParameterVector\n",
    "from matplotlib import cm\n",
    "import step1\n",
    "import step2"
   ]
  },
  {
   "attachments": {},
   "cell_type": "markdown",
   "metadata": {},
   "source": [
    "### **Step 1**: Build the ansatz circuit and the hamiltonian"
   ]
  },
  {
   "attachments": {},
   "cell_type": "markdown",
   "metadata": {},
   "source": [
    "For simplicity, we'll use the proposed ansatz:"
   ]
  },
  {
   "cell_type": "code",
   "execution_count": null,
   "metadata": {},
   "outputs": [],
   "source": [
    "n_qbits=4\n",
    "rep = 2\n",
    "\n",
    "params = step1.get_init_params(n_qbits,rep)\n",
    "\n",
    "qc = step1.ansatz(params,n_qbits,rep)\n",
    "qc.measure_all()\n",
    "display(qc.draw('mpl'))"
   ]
  },
  {
   "attachments": {},
   "cell_type": "markdown",
   "metadata": {},
   "source": [
    "Then we build the Hamiltonian:"
   ]
  },
  {
   "cell_type": "code",
   "execution_count": null,
   "metadata": {},
   "outputs": [],
   "source": [
    "K = 100 # strike price\n",
    "sigma = 0.1 # volatility in %\n",
    "T= 1\n",
    "r = 0\n",
    "Smin = 0\n",
    "Smax = 150\n",
    "n_qbits = 4\n",
    "delta = (Smax - Smin)/(2**n_qbits-1) #price discretization\n",
    "\n",
    "H = step1.hamiltonian(n_qbits, delta,  r, sigma)\n",
    "print('Price step:',delta)\n",
    "print(H)"
   ]
  },
  {
   "attachments": {},
   "cell_type": "markdown",
   "metadata": {},
   "source": [
    "### **Step 2**: Build the initial state for the hybrid quantum-classical algorithm"
   ]
  },
  {
   "cell_type": "code",
   "execution_count": null,
   "metadata": {},
   "outputs": [],
   "source": [
    "K_quantum = 6 #Strike price when prices are represented by the computational basis\n",
    "\n",
    "n_qbits = 4\n",
    "rep = 2\n",
    "params = step1.get_init_params(n_qbits,rep)\n",
    "# We use the specified backend\n",
    "backend = Aer.get_backend('aer_simulator_statevector')\n"
   ]
  },
  {
   "attachments": {},
   "cell_type": "markdown",
   "metadata": {},
   "source": [
    "We need to define `cost_func(params)` within this notebook because `optimizer.minimize()` only admits functions with one argument. Therefore, if we want that `cost_func(params)` in sensitive to the number of qbits, the strike price and the backend machine it needs to be in the same file of these variables. Besides, we will define the rest of the functions here to provide full visibility of the most important part of the challenge."
   ]
  },
  {
   "cell_type": "code",
   "execution_count": null,
   "metadata": {},
   "outputs": [],
   "source": [
    "def cost_func(params):\n",
    "    \"\"\"Compares the output distribution of our circuit with\n",
    "    parameters `params` to the target distribution.\"\"\"\n",
    "    # Create circuit instance with paramters and simulate it\n",
    "    qc = step1.ansatz(params, n_qbits, rep)\n",
    "    qc.measure_all()\n",
    "    qc_t = transpile(qc, backend)\n",
    "    result = backend.run(qc_t).result()\n",
    "    # Get the counts for each measured state, and convert those counts into a probability dict\n",
    "    output_distr = step2.counts_to_distr(result.get_counts())\n",
    "    # Calculate the cost as the distance between the output distribution and the target distribution\n",
    "    cost = sum(\n",
    "        abs(step2.create_target_distr(n_qbits, K_quantum).get(i, 0) - output_distr.get(i, 0))\n",
    "        for i in range(2**n_qbits)\n",
    "    )\n",
    "    return cost\n",
    "\n",
    "def plot_optimized_amplitudes(optimized_result):\n",
    "    '''Build a circuit with the optimal paramters and plot it'''\n",
    "    qc = step1.ansatz(optimized_result.x, n_qbits,rep)\n",
    "    qc.measure_all()\n",
    "    qc_t = transpile(qc,backend)\n",
    "\n",
    "\n",
    "    final_result = backend.run(qc_t, shots=int(1e5)).result()\n",
    "    counts = final_result.get_counts()\n",
    "\n",
    "    output_distr = step2.counts_to_distr(counts)\n",
    "    output_amplitudes = step2.get_sorted_amplitudes(output_distr)\n",
    "\n",
    "    fig, ax = plt.subplots()\n",
    "    ax.spines['bottom'].set_position('zero')\n",
    "    ax.plot(output_amplitudes.keys(), output_amplitudes.values(), '--', color='g')\n",
    "    plt.xlabel('S')\n",
    "    plt.ylabel('Payoff')\n",
    "    plt.title('European Call Option Payoff')\n",
    "    plt.show()"
   ]
  },
  {
   "attachments": {},
   "cell_type": "markdown",
   "metadata": {},
   "source": [
    "### Optimization with SPSA\n",
    "\n",
    "SPSA (Simultaneous Perturbation Stochastic Approximation) is a stochastic gradient descent method used for finding the optimal parameters of a function. It is well-suited for optimization problems that have noisy or uncertain gradients. SPSA uses a gradient estimate based on random perturbations of the input parameters, making it robust to noise in the function evaluation."
   ]
  },
  {
   "cell_type": "code",
   "execution_count": null,
   "metadata": {},
   "outputs": [],
   "source": [
    "optimizer = SPSA(maxiter=1e3)\n",
    "optimization_result = optimizer.minimize(fun=cost_func,x0=params)\n",
    "plot_optimized_amplitudes(optimization_result)"
   ]
  },
  {
   "attachments": {},
   "cell_type": "markdown",
   "metadata": {},
   "source": [
    "### Optimization with COBYLA\n",
    "\n",
    "COBYLA (Constrained Optimization BY Linear Approximation) is a derivative-free optimization method that is used for minimizing a function subject to constraints. COBYLA does not use gradient information and works by approximating the function with a linear model within a trust region of the input parameters.\n"
   ]
  },
  {
   "cell_type": "code",
   "execution_count": null,
   "metadata": {},
   "outputs": [],
   "source": [
    "optimizer = COBYLA(maxiter=1e3, tol = 0.00001)\n",
    "optimization_result = optimizer.minimize(fun=cost_func,x0=params)\n",
    "plot_optimized_amplitudes(optimization_result)"
   ]
  },
  {
   "attachments": {},
   "cell_type": "markdown",
   "metadata": {},
   "source": [
    "Both SPSA and COBYLA are commonly used in quantum computing for optimizing quantum circuits, as the noisy and constrained nature of quantum systems can make traditional optimization methods impractical. However, in this case COBYLA seems to provide more reasonable values, so we'll move on with those."
   ]
  },
  {
   "attachments": {},
   "cell_type": "markdown",
   "metadata": {},
   "source": [
    "### **Step 3**: Simulate the hybrid quantum-classical routine to price an European call option"
   ]
  },
  {
   "attachments": {},
   "cell_type": "markdown",
   "metadata": {},
   "source": [
    "Until now we were trying hard to avoid spaghetti code but it's being impossible to refactor the code while keeping the same results, sorry about that :)"
   ]
  },
  {
   "cell_type": "code",
   "execution_count": null,
   "metadata": {},
   "outputs": [],
   "source": [
    "n_qubits=4\n",
    "rep=2\n",
    "\n",
    "H_fact = SparsePauliOp.from_operator(step1.hamiltonian(n_qbits, delta,  r, sigma))\n",
    "pauli_op = PauliSumOp.from_list(H_fact.to_list())\n",
    "#Note that VarQite algorithm requires that parameters are defined using the ParameterVector() class\n",
    "param_vec = ParameterVector('θ', length=n_qubits + rep*(2*n_qubits-1))\n",
    "\n",
    "observable = pauli_op\n",
    "\n",
    "#Get the option price at maturity\n",
    "qc = step1.ansatz(optimization_result.x, n_qbits,rep)\n",
    "qc.measure_all()\n",
    "qc_t = transpile(qc,backend)\n",
    "final_result = backend.run(qc_t, shots=int(1e5)).result()\n",
    "counts = final_result.get_counts()\n",
    "\n",
    "# Create quantum circuit that represents the initial option price that is going to evolve \n",
    "#backward in time\n",
    "qc = step1.ansatz(param_vec, n_qubits=n_qubits, rep=rep)\n",
    "\n",
    "#Specifyy the maturity of the option\n",
    "time = 10\n",
    "\n",
    "#Initialize varQITE algorithm, beware of the change of variable that is applied to the time \n",
    "evolution_problem = TimeEvolutionProblem(observable, time=time*sigma**2)\n",
    "var_qite = VarQITE(\n",
    "    ansatz=qc,\n",
    "    initial_parameters=optimization_result.x,\n",
    ")\n",
    "#Backward time evolution\n",
    "evolution_result = var_qite.evolve(evolution_problem)\n",
    "\n",
    "qc = evolution_result.evolved_state\n",
    "qc_t = transpile(qc, backend=backend)\n",
    "\n",
    "#Get paramaters associated to the evolved state\n",
    "params_step = evolution_result.parameter_values[-1]\n",
    "\n",
    "qc = step1.ansatz(params=params_step, n_qubits=n_qubits, rep=rep)\n",
    "qc.measure_all()\n",
    "qc_t = transpile(qc, backend)\n",
    "result_step = backend.run(qc_t, shots=int(1e5)).result()\n",
    "counts_step = result_step.get_counts()\n",
    "\n",
    "#Plot maturity and evolved amplitudes\n",
    "display(plot_histogram([step2.get_sorted_amplitudes(step2.counts_to_distr(counts)), \n",
    "                        step2.get_sorted_amplitudes(step2.counts_to_distr(counts_step))], \n",
    "                        title='Backward time evolution'))"
   ]
  },
  {
   "cell_type": "code",
   "execution_count": null,
   "metadata": {},
   "outputs": [],
   "source": [
    "#Define range of stock price\n",
    "K = 100 # strike price\n",
    "sigma = 0.1 # volatility in %\n",
    "r = 0\n",
    "Smin = 0\n",
    "Smax = 150\n",
    "n_qbits = 4\n",
    "delta = (Smax - Smin)/(2**n_qbits-1) #step of price discretization\n",
    "S = np.arange(Smin,Smax,delta)\n",
    "\n",
    "fig, ax = plt.subplots()\n",
    "ax.spines['bottom'].set_position('zero')\n",
    "t=1 #Note that t=0 means we are at maturity, we are moving backwards\n",
    "ax.plot(S, step1.black_scholes_european_call_payoff(S, K, t, r, sigma), '--', color='red',label='Further from maturity')\n",
    "t= 0.12 #Note that t=0 means we are at maturity, we are moving backwards\n",
    "ax.plot(S, step1.black_scholes_european_call_payoff(S, K, t, r, sigma), '--', color = 'blue',label='Closer to maturity')\n",
    "plt.xlabel('S')\n",
    "plt.ylabel('Payoff')\n",
    "plt.title('European Call Option Payoff')\n",
    "plt.legend()\n",
    "plt.show()"
   ]
  },
  {
   "attachments": {},
   "cell_type": "markdown",
   "metadata": {},
   "source": [
    "Note that our solution is consistent with the analytical solution of the Black-Scholes equation. Note that the red payoff is prior to the blue one, if time evolves forward."
   ]
  },
  {
   "attachments": {},
   "cell_type": "markdown",
   "metadata": {},
   "source": [
    "### **Bonus points**:"
   ]
  },
  {
   "attachments": {},
   "cell_type": "markdown",
   "metadata": {},
   "source": [
    "- Run the hybrid quantum-classical on a QPU (optimize for given QPU connectivity). Reason whether you need state tomography, reason if possible to extract the information of interest (only the price call at the current date) with alternatives that require less expensive techniques. On a QPU or QASM  simulator, you only have access to short-estimated probabilities."
   ]
  },
  {
   "cell_type": "code",
   "execution_count": null,
   "metadata": {},
   "outputs": [],
   "source": [
    "from qiskit_ibm_provider import IBMProvider\n",
    "# Personal token from Pau Torrente\n",
    "provider = IBMProvider(token='6c9f1636d918f45281be268ee3cb6e459c55832516c5d974611c7ccd613704033843bce0fb9a0c962bb36387384a3e1e0754d3120747925e7cd2a4c38acd3684')\n",
    "hub = \"ibm-q-community\"\n",
    "group = \"digiq-icfo-hack\"\n",
    "project = \"main\"\n",
    "backend_name = \"ibmq_jakarta\" # 7 qubits\n",
    "#backend_name = \"ibmq_guadalupe\t\" # 16 qubits\n",
    "backend = provider.get_backend(backend_name, instance=f\"{hub}/{group}/{project}\")\n",
    "shots = int(1024)# Number of shots to run each circuit for\n",
    "\n",
    "\n",
    "n_qubits=4\n",
    "rep=2\n",
    "\n",
    "H_fact = SparsePauliOp.from_operator(step1.hamiltonian(n_qbits, delta,  r, sigma))\n",
    "pauli_op = PauliSumOp.from_list(H_fact.to_list())\n",
    "param_vec = ParameterVector('θ', length=n_qubits + rep*(2*n_qubits-1))\n",
    "\n",
    "observable = pauli_op\n",
    "\n",
    "qc = step1.ansatz(optimization_result.x, n_qbits,rep)\n",
    "qc.measure_all()\n",
    "qc_t = transpile(qc,backend)\n",
    "\n",
    "final_result = backend.run(qc_t, shots=shots).result()\n",
    "counts = final_result.get_counts()\n",
    "\n",
    "qc = step1.ansatz(param_vec, n_qubits=n_qubits, rep=rep)\n",
    "\n",
    "time = 1\n",
    "\n",
    "evolution_problem = TimeEvolutionProblem(observable, time=time*sigma**2)\n",
    "var_qite = VarQITE(\n",
    "    ansatz=qc,\n",
    "    initial_parameters=optimization_result.x,\n",
    ")\n",
    "evolution_result = var_qite.evolve(evolution_problem)\n",
    "\n",
    "qc = evolution_result.evolved_state\n",
    "qc_t = transpile(qc, backend=backend)\n",
    "params_step = evolution_result.parameter_values[-1]\n",
    "\n",
    "qc = step1.ansatz(params=params_step, n_qubits=n_qubits, rep=rep)\n",
    "qc.measure_all()\n",
    "qc_t = transpile(qc, backend)\n",
    "result_step = backend.run(qc_t, shots=int(1e5)).result()\n",
    "counts_step = result_step.get_counts()\n",
    "display(plot_histogram([step2.get_sorted_amplitudes(step2.counts_to_distr(counts)), \n",
    "                        step2.get_sorted_amplitudes(step2.counts_to_distr(counts_step))], \n",
    "                        title='Backward time evolution'))"
   ]
  },
  {
   "attachments": {},
   "cell_type": "markdown",
   "metadata": {},
   "source": [
    "During the night we have been able to submit some jobs but the computers were unavailable. We only could finish one exeecution.In our last try the estimated queue was of 22h..."
   ]
  },
  {
   "attachments": {},
   "cell_type": "markdown",
   "metadata": {},
   "source": [
    "- Reason how to extend the algorithm to other type of options or to a multi-dimensional BS model."
   ]
  },
  {
   "attachments": {},
   "cell_type": "markdown",
   "metadata": {},
   "source": [
    "This point is discussed in the pdf. As our code is not robust, the only way to reproduce the obtained result was to copy all the code."
   ]
  },
  {
   "cell_type": "code",
   "execution_count": 1,
   "metadata": {},
   "outputs": [
    {
     "name": "stdout",
     "output_type": "stream",
     "text": [
      "6.25\n"
     ]
    },
    {
     "data": {
      "image/png": "[encoded data removed]",
      "text/plain": [
       "<Figure size 640x480 with 1 Axes>"
      ]
     },
     "metadata": {},
     "output_type": "display_data"
    }
   ],
   "source": [
    "from qiskit import QuantumCircuit\n",
    "import numpy as np\n",
    "\n",
    "# define the varitional form\n",
    "def ansatz_without(params, n_qubits, rep):\n",
    "    \"\"\"\n",
    "        params are the trainable parameters\n",
    "        n_qubits is the number of qubits in the ansatz\n",
    "        rep is the repetation of the controlled-RY group\n",
    "    \"\"\"\n",
    "    # giving exceptions\n",
    "    if len(params) != n_qubits + rep*(2*n_qubits-1):\n",
    "        raise Exception(\"the number of parameters doesn't match\")\n",
    "    if n_qubits < 2:\n",
    "        raise Exception(\"not enought qubits to build the ansatz\")\n",
    "    if rep < 1:\n",
    "        raise Exception(\"the repetation must be at least 1\")\n",
    "    if type(n_qubits) != int:\n",
    "        raise Exception(\"the number of qubits must be an integar\")\n",
    "    if type(rep) != int:\n",
    "        raise Exception(\"the number of repetation must be an integar\")\n",
    "    \n",
    "    # build the circuit\n",
    "    qc = QuantumCircuit(n_qubits)\n",
    "    qc.x(0)\n",
    "    qc.h(range(1, n_qubits))\n",
    "    for n in range(n_qubits):\n",
    "        qc.ry(params[n], n)\n",
    "    for i in range(rep):\n",
    "        for n in range(n_qubits-1):\n",
    "            qc.cry(params[n_qubits+(2*n_qubits-1)*i+n], n, n+1)\n",
    "            qc.ry(params[n_qubits+(2*n_qubits-1)*i+n+n_qubits-1], n)\n",
    "        qc.ry(params[n_qubits+(2*n_qubits-1)*i+(2*n_qubits-2)], n_qubits-1)\n",
    "    #display(qc.draw('mpl'))\n",
    "    return qc\n",
    "\n",
    "def ansatz(params, n_qubits, rep):\n",
    "    qc = ansatz_without(params, n_qubits, rep)\n",
    "    qc.measure_all()\n",
    "    return qc\n",
    "\n",
    "def get_init_params(n_qubits, rep):\n",
    "    params = np.zeros(n_qubits + rep*(2*n_qubits-1))\n",
    "    for i in range(n_qubits):\n",
    "        params[i] = np.pi/2\n",
    "    return params\n",
    "\n",
    "from qiskit import Aer, transpile\n",
    "from qiskit.algorithms.optimizers import SPSA, COBYLA\n",
    "import matplotlib.pylab as plt\n",
    "from qiskit.visualization import plot_histogram\n",
    "from qiskit.quantum_info import Statevector\n",
    "\n",
    "n_qubits = 4\n",
    "rep = 2\n",
    "backend = Aer.get_backend('aer_simulator_statevector')\n",
    "optimizer = SPSA(maxiter=2e3)\n",
    "\n",
    "def counts_to_distr(counts):\n",
    "    \"\"\"\n",
    "    Convert Qiskit result counts to dict with integers as\n",
    "    keys, and pseudo-probabilities as values.\n",
    "    \"\"\"\n",
    "    n_shots = sum(counts.values())\n",
    "    return {int(k, 2): v/n_shots for k, v in counts.items()}\n",
    "\n",
    "def counts_to_amp(counts):\n",
    "    \"\"\"\n",
    "    Convert Qiskit result counts to dict with integers as\n",
    "    keys, and pseudo-probabilities as values.\n",
    "    \"\"\"\n",
    "    sq_dict = {key: np.sqrt(value) for key, value in counts.items()}\n",
    "    n_shots2 = sum(sq_dict.values())\n",
    "    return {int(k, 2): np.sqrt(v)/n_shots2 for k, v in counts.items()}\n",
    "\n",
    "def creat_target_distr(n_qubits, cross_over):\n",
    "    \"\"\"\n",
    "    cross_over is the last zero point\n",
    "    \"\"\"\n",
    "    n_states = 2**n_qubits\n",
    "    if cross_over >= n_states:\n",
    "        raise Exception(\"open your eyes mate\")\n",
    "    end = n_states-cross_over-1\n",
    "    cumulant = sum(np.linspace(1, end, end)**2)\n",
    "    target_distr = {}\n",
    "    for i in range(n_states):\n",
    "        if i < cross_over:\n",
    "            target_distr[i] = 0\n",
    "        else:\n",
    "            target_distr[i] = (i - cross_over)**2 / cumulant\n",
    "    return target_distr\n",
    "\n",
    "def cost_func_1(params):\n",
    "    \"\"\"Compares the output distribution of our circuit with\n",
    "    parameters `params` to the target distribution.\"\"\"\n",
    "    # Create circuit instance with paramters and simulate it\n",
    "    qc = ansatz(params, n_qubits, rep)\n",
    "    qc_t = transpile(qc, backend)\n",
    "    result = backend.run(qc_t).result()\n",
    "    # Get the counts for each measured state, and convert\n",
    "    # those counts into a probability dict\n",
    "    output_distr = counts_to_distr(result.get_counts())\n",
    "    # Calculate the cost as the distance between the output\n",
    "    # distribution and the target distribution\n",
    "    cost = sum(\n",
    "        abs(target_distr.get(i, 0) - output_distr.get(i, 0))\n",
    "        for i in range(2**n_qubits)\n",
    "    )\n",
    "    return cost\n",
    "\n",
    "# initialization\n",
    "params = np.ones(n_qubits + rep*(2*n_qubits-1))*np.pi\n",
    "target_distr = creat_target_distr(\n",
    "    n_qubits=4,\n",
    "    cross_over=6\n",
    ")\n",
    "\n",
    "# optimization\n",
    "result = optimizer.minimize(\n",
    "    fun=cost_func_1,\n",
    "    x0=params)\n",
    "\n",
    "# Obtain the output distribution using the final parameters\n",
    "qc = ansatz(result.x, n_qubits=n_qubits, rep=rep)\n",
    "qc_t = transpile(qc,  backend)\n",
    "final_result = backend.run(qc_t, shots=int(1e6)).result()\n",
    "counts = final_result.get_counts()\n",
    "output_amp = counts_to_amp(counts)\n",
    "for i in range(2**n_qubits): \n",
    "    if i in output_amp:\n",
    "        pass\n",
    "    else:\n",
    "        output_amp[i] = 0\n",
    "target_amp = {i: np.sqrt(target_distr.get(i, 0)) for i in range(2**n_qubits)}\n",
    "plot_histogram([output_amp, target_amp])\n",
    "from qiskit import QuantumCircuit, ClassicalRegister, QuantumRegister\n",
    "\n",
    "from qiskit.circuit.library import RealAmplitudes\n",
    "\n",
    "from qiskit.quantum_info import SparsePauliOp\n",
    "\n",
    "from qiskit.opflow import PauliSumOp\n",
    "\n",
    "K = 100 # strike price\n",
    "sigma = 0.4 # volatility in %\n",
    "T= 1\n",
    "r = 0\n",
    "Smin = 50\n",
    "Smax = 150\n",
    "Nqubits = 4\n",
    "delta = (Smax - Smin)/(2**Nqubits)\n",
    "\n",
    "\n",
    "\n",
    "def hamiltonian(qubit_count, delta, r, sigma):\n",
    "\n",
    "    dim = 2**qubit_count\n",
    "\n",
    "    b = -1/2 * (1/2-r/sigma**2)**2-r/sigma**2\n",
    "    print(delta)\n",
    "\n",
    "    H = np.zeros((dim, dim))\n",
    "\n",
    "    H[0][0] = -b*(2*delta**2)\n",
    "\n",
    "    H[-1][-1] = -b*(2*delta**2)\n",
    "\n",
    "    for i in range(1, dim-1):\n",
    "    \n",
    "        H[i][i-1] = 1\n",
    "\n",
    "        H[i][i] = -2\n",
    "\n",
    "        H[i][i+1] = 1\n",
    "\n",
    "    return H*(1/(2*delta**2))\n",
    "\n",
    "H_fact = SparsePauliOp.from_operator(hamiltonian(Nqubits, delta,  r, sigma))\n",
    "\n",
    "pauli_op = PauliSumOp.from_list(H_fact.to_list())\n",
    "from qiskit.algorithms import TimeEvolutionProblem, VarQITE\n",
    "from qiskit.algorithms.time_evolvers.variational import ImaginaryMcLachlanPrinciple\n",
    "from qiskit.circuit.library import EfficientSU2\n",
    "from qiskit.quantum_info import SparsePauliOp\n",
    "from qiskit.circuit import ParameterVector\n",
    "\n",
    "param_vec = ParameterVector('θ', length=n_qubits + rep*(2*n_qubits-1))\n",
    "\n",
    "observable = pauli_op\n",
    "\n",
    "qc = ansatz_without(param_vec, n_qubits=n_qubits, rep=rep)\n",
    "\n",
    "time = 5\n",
    "num_step = 2\n",
    "evolution_problem = TimeEvolutionProblem(observable, time=sigma**2*time)\n",
    "var_qite = VarQITE(\n",
    "    ansatz=qc,\n",
    "    initial_parameters=result.x,\n",
    "    num_timesteps=num_step*time,\n",
    ")\n",
    "evolution_result = var_qite.evolve(evolution_problem)\n",
    "\n",
    "\n",
    "import matplotlib.pyplot as plt\n",
    "\n",
    "amp = counts_to_amp(counts)\n",
    "for i in range(2**n_qubits): \n",
    "        if i in amp:\n",
    "            pass\n",
    "        else:\n",
    "            amp[i] = 0\n",
    "time_evolve = np.array([amp[key] for key in sorted(amp)], ndmin=2).T\n",
    "params_step = evolution_result.parameter_values\n",
    "for i in range(1, len(params_step)):\n",
    "    qc = ansatz(params=params_step[i], n_qubits=n_qubits, rep=rep)\n",
    "    qc_t = transpile(qc, backend)\n",
    "    result_step = backend.run(qc_t, shots=int(1e6)).result()\n",
    "    amp_step = counts_to_amp(result_step.get_counts())\n",
    "    for i in range(2**n_qubits): \n",
    "        if i in amp_step:\n",
    "            pass\n",
    "        else:\n",
    "            amp_step[i] = 0\n",
    "    amp_ndarray = [amp_step[key] for key in range(2**n_qubits)]\n",
    "    amp_ndarray = np.array(amp_ndarray, ndmin=2)\n",
    "    time_evolve = np.append(time_evolve, amp_ndarray.T, axis=1)\n",
    "\n",
    "\n",
    "\n",
    "from matplotlib import cm\n",
    "\n",
    "X = np.linspace(50, 150, 16)\n",
    "Y = np.linspace(0, 5, time*num_step+1)\n",
    "Y, X = np.meshgrid(Y, X)\n",
    "fig, ax = plt.subplots(subplot_kw={\"projection\": \"3d\"})\n",
    "surf = ax.plot_surface(Y, X, time_evolve, cmap=cm.coolwarm,\n",
    "                       linewidth=0, antialiased=False)"
   ]
  },
  {
   "attachments": {},
   "cell_type": "markdown",
   "metadata": {},
   "source": [
    "- Implement Montecarlo or Finite differences schemes to solve the simple option pricing exercise. A classical baseline to compare with is useful. Argue where does the hybrid quantum algortihm stand in terms of error, runtime and numerical stability or others."
   ]
  },
  {
   "attachments": {},
   "cell_type": "markdown",
   "metadata": {},
   "source": [
    "This is discussed in the pdf."
   ]
  },
  {
   "cell_type": "markdown",
   "metadata": {},
   "source": []
  }
 ],
 "metadata": {
  "kernelspec": {
   "display_name": "qiskit-hackathon",
   "language": "python",
   "name": "python3"
  },
  "language_info": {
   "codemirror_mode": {
    "name": "ipython",
    "version": 3
   },
   "file_extension": ".py",
   "mimetype": "text/x-python",
   "name": "python",
   "nbconvert_exporter": "python",
   "pygments_lexer": "ipython3",
   "version": "3.11.2"
  },
  "orig_nbformat": 4
 },
 "nbformat": 4,
 "nbformat_minor": 2
}
